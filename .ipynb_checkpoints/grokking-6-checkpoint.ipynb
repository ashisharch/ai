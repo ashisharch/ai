{
 "cells": [
  {
   "cell_type": "code",
   "execution_count": 56,
   "metadata": {},
   "outputs": [
    {
     "name": "stdout",
     "output_type": "stream",
     "text": [
      "[ 0.5   0.48 -0.7 ]\n",
      "For iteration=0, row=0 / Weights = [ 0.502  0.48  -0.698]\n",
      "For iteration=0, row=1 / Weights = [ 0.502    0.49218 -0.68582]\n",
      "For iteration=0, row=2 / Weights = [ 0.502      0.49218   -0.6789618]\n",
      "For iteration=0, row=3 / Weights = [ 0.50884782  0.49902782 -0.67211398]\n",
      "For iteration=0, row=4 / Weights = [ 0.50884782  0.51075868 -0.66038312]\n",
      "For iteration=0, row=5 / Weights = [ 0.51036317  0.51075868 -0.65886777]\n"
     ]
    }
   ],
   "source": [
    "import numpy as np\n",
    "\n",
    "weights = np.array([0.5,0.48,-0.7])\n",
    "#weights = np.array([0,1,0.7])\n",
    "alpha = 0.01\n",
    "\n",
    "streetlights = np.array( [[ 1, 0, 1 ],\n",
    "                          [ 0, 1, 1 ],\n",
    "                          [ 0, 0, 1 ],\n",
    "                          [ 1, 1, 1 ],\n",
    "                          [ 0, 1, 1 ],\n",
    "                          [ 1, 0, 1 ]] )\n",
    "\n",
    "walk_vs_stop = np.array( [ 0, 1, 0, 1, 1, 0 ] )\n",
    "\n",
    "input = streetlights[0] # [1,0,1]\n",
    "goal_prediction = walk_vs_stop[0] # equals 0... i.e. \"stop\"\n",
    "\n",
    "print (weights)\n",
    "for iteration in range(1): #iteration count is arbitrary, to get to 0 error in perdiction\n",
    "    error_for_all_lights = 0\n",
    "    for row_index in range(len(walk_vs_stop)): #loop for every row in prediction\n",
    "        input = streetlights[row_index]\n",
    "        goal_prediction = walk_vs_stop[row_index]\n",
    "        \n",
    "        prediction = input.dot(weights)\n",
    "        \n",
    "        error = (goal_prediction - prediction) ** 2\n",
    " #       print(f\"error for row {row_index} = {error}\")\n",
    "        error_for_all_lights += error #<=Shared error which will be attributed across all weights\n",
    "        \n",
    "        delta = prediction - goal_prediction\n",
    "        weights = weights - (alpha * (input * delta)) #adjust weight with every example\n",
    "        print (f\"For iteration={iteration}, row={row_index} / Weights = {weights}\")\n",
    "#       print(\"Prediction:\" + str(prediction))\n",
    "#    print(f\"Error: {error_for_all_lights} / Weights = {weights}\" + \"\\n\")"
   ]
  },
  {
   "cell_type": "code",
   "execution_count": 85,
   "metadata": {},
   "outputs": [
    {
     "name": "stdout",
     "output_type": "stream",
     "text": [
      "weights_0_1 [[-0.16595599  0.44064899 -0.99977125 -0.39533485]\n",
      " [-0.70648822 -0.81532281 -0.62747958 -0.30887855]\n",
      " [-0.20646505  0.07763347 -0.16161097  0.370439  ]]\n",
      "weights_1_2 [[-0.5910955 ]\n",
      " [ 0.75623487]\n",
      " [-0.94522481]\n",
      " [ 0.34093502]]\n",
      "layer_0=[[1 0 1]] shape=(1, 3) \n",
      "layer_1 input = [[-0.          0.51828245 -0.         -0.        ]], shape = (1, 4)\n",
      "layer_2 prediction = [[0.39194327]], shape = (1, 1) \n"
     ]
    }
   ],
   "source": [
    "import numpy as np\n",
    "\n",
    "np.random.seed(1)\n",
    "\n",
    "def relu(x):\n",
    "    return (x > 0) * x # returns x if x > 0\n",
    "                       # return 0 otherwise\n",
    "\n",
    "def relu2deriv(output):\n",
    "    return output>0 # returns 1 for input > 0\n",
    "                    # return 0 otherwise\n",
    "\n",
    "streetlights = np.array( [[ 1, 0, 1 ],\n",
    "                          [ 0, 1, 1 ],\n",
    "                          [ 0, 0, 1 ],\n",
    "                          [ 1, 1, 1 ],\n",
    "                          [ 0, 1, 1 ],\n",
    "                          [ 1, 0, 1 ]] )\n",
    "\n",
    "walk_vs_stop = np.array( [ 0, 1, 0, 1, 1, 0 ] )\n",
    "\n",
    "alpha = 0.2\n",
    "hidden_size = 4\n",
    "\n",
    "weights_0_1 = 2*np.random.random((3,hidden_size)) - 1\n",
    "weights_1_2 = 2*np.random.random((hidden_size,1)) - 1\n",
    "\n",
    "print(\"weights_0_1\", weights_0_1)\n",
    "print(\"weights_1_2\", weights_1_2)\n",
    "\n",
    "for iteration in range(1):\n",
    "    layer_2_error = 0\n",
    "    for i in range(1):\n",
    "        layer_0 = streetlights[i:i+1]\n",
    "        print(f\"layer_0={layer_0} shape={layer_0.shape} \")\n",
    "        layer_1 = relu(np.dot(layer_0,weights_0_1)) #REMOVE -negative weights\n",
    "        print(f\"layer_1 input = {layer_1}, shape = {layer_1.shape}\")\n",
    "        layer_2 = np.dot(layer_1,weights_1_2) #prediction\n",
    "        print(f\"layer_2 prediction = {layer_2}, shape = {layer_2.shape} \")\n",
    "\n",
    "        layer_2_error += np.sum((layer_2 - walk_vs_stop[i:i+1]) ** 2)\n",
    "\n",
    "        layer_2_delta = (walk_vs_stop[i:i+1] - layer_2)\n",
    "            layer_1_delta = layer_2_delta.dot(weights_1_2.T)*relu2deriv(layer_1)\n",
    "\n",
    "        weights_1_2 += alpha * layer_1.T.dot(layer_2_delta)\n",
    "        weights_0_1 += alpha * layer_0.T.dot(layer_1_delta)\n",
    "\n",
    "    if(iteration % 10 == 9):\n",
    "        print(\"Error:\" + str(layer_2_error))"
   ]
  },
  {
   "cell_type": "code",
   "execution_count": null,
   "metadata": {},
   "outputs": [],
   "source": []
  },
  {
   "cell_type": "code",
   "execution_count": null,
   "metadata": {},
   "outputs": [],
   "source": []
  }
 ],
 "metadata": {
  "kernelspec": {
   "display_name": "Python 3",
   "language": "python",
   "name": "python3"
  },
  "language_info": {
   "codemirror_mode": {
    "name": "ipython",
    "version": 3
   },
   "file_extension": ".py",
   "mimetype": "text/x-python",
   "name": "python",
   "nbconvert_exporter": "python",
   "pygments_lexer": "ipython3",
   "version": "3.8.3"
  }
 },
 "nbformat": 4,
 "nbformat_minor": 4
}
