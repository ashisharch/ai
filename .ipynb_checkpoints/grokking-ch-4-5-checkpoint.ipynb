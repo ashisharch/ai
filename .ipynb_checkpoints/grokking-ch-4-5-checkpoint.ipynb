{
 "cells": [
  {
   "cell_type": "code",
   "execution_count": 8,
   "metadata": {},
   "outputs": [
    {
     "name": "stdout",
     "output_type": "stream",
     "text": [
      "0.25\n",
      "1.1025\n"
     ]
    }
   ],
   "source": [
    "#Example of Mean Squared Error\n",
    "knob_wt = 0.5\n",
    "input = 0.5\n",
    "goal_pred = -0.8\n",
    "\n",
    "pred = input * knob_wt\n",
    "print(pred)\n",
    "#Square the diff to avoid looking at a negative value, and by squaring, you make small errors smaller, so we can focus on the really big ones\n",
    "error = (pred - goal_pred) ** 2 \n",
    "\n",
    "print(error)"
   ]
  },
  {
   "cell_type": "code",
   "execution_count": 15,
   "metadata": {},
   "outputs": [
    {
     "name": "stdout",
     "output_type": "stream",
     "text": [
      "0.8500000000000001 / 0.935 / 0.7650000000000001\n",
      "0.022499999999999975 / 0.004224999999999993 / 0.05522499999999994\n"
     ]
    }
   ],
   "source": [
    "# 1) An Empty Network\n",
    "weight = 0.1 \n",
    "lr = 0.01\n",
    "\n",
    "def neural_network(input, weight):\n",
    "    prediction = input * weight\n",
    "    return prediction\n",
    "\n",
    "\n",
    "# 2) PREDICT: Making A Prediction And Evaluating Error\n",
    "\n",
    "number_of_toes = [8.5]\n",
    "win_or_lose_binary = [1] #(won!!!)\n",
    "\n",
    "input = number_of_toes[0]\n",
    "true = win_or_lose_binary[0]\n",
    "\n",
    "pred = neural_network(input,weight)\n",
    "pred_up = neural_network(input,weight+lr)\n",
    "pred_dn = neural_network(input,weight-lr)\n",
    "print(f\"{pred} / {pred_up} / {pred_dn}\")\n",
    "\n",
    "error = (pred - true) ** 2\n",
    "error_up = (pred_up - true) ** 2\n",
    "error_dn = (pred_dn - true) ** 2\n",
    "print(f\"{error} / {error_up} / {error_dn}\")\n"
   ]
  },
  {
   "cell_type": "code",
   "execution_count": 30,
   "metadata": {},
   "outputs": [
    {
     "name": "stdout",
     "output_type": "stream",
     "text": [
      "Iteration 0 ==> Error:0.30250000000000005 Prediction:0.25\n",
      "Iteration 1 ==> Error:0.3019502500000001 Prediction:0.2505\n",
      "Iteration 2 ==> Error:0.30140100000000003 Prediction:0.251\n",
      "Iteration 3 ==> Error:0.30085225 Prediction:0.2515\n",
      "Iteration 4 ==> Error:0.30030400000000007 Prediction:0.252\n"
     ]
    }
   ],
   "source": [
    "weight = 0.5\n",
    "input = 0.5\n",
    "goal_prediction = 0.8\n",
    "\n",
    "step_amount = .001\n",
    "\n",
    "for iteration in range(5): #set number to 1000 to see real output\n",
    "\n",
    "    prediction = input * weight\n",
    "    error = (prediction - goal_prediction) ** 2\n",
    "\n",
    "    print(f\"Iteration {iteration} ==> Error:\" + str(error) + \" Prediction:\" + str(prediction))\n",
    "    \n",
    "    up_prediction = input * (weight + step_amount)\n",
    "    up_error = (goal_prediction - up_prediction) ** 2\n",
    "\n",
    "    down_prediction = input * (weight - step_amount)\n",
    "    down_error = (goal_prediction - down_prediction) ** 2\n",
    "\n",
    "    if(down_error < up_error):\n",
    "        weight = weight - step_amount\n",
    "        \n",
    "    if(down_error > up_error):\n",
    "        weight = weight + step_amount"
   ]
  },
  {
   "cell_type": "code",
   "execution_count": 42,
   "metadata": {},
   "outputs": [
    {
     "name": "stdout",
     "output_type": "stream",
     "text": [
      "0 Error:1.1025 Prediction:-0.25\n",
      "after 0 adjust by  0.525\n",
      "1 Error:0.6201562500000002 Prediction:0.012500000000000011\n",
      "after 1 adjust by  0.39375000000000004\n",
      "2 Error:0.3488378906249999 Prediction:0.20937500000000003\n",
      "after 2 adjust by  0.2953125\n",
      "3 Error:0.19622131347656252 Prediction:0.35703125\n",
      "after 3 adjust by  0.221484375\n",
      "4 Error:0.11037448883056644 Prediction:0.4677734375\n",
      "after 4 adjust by  0.16611328125000002\n",
      "5 Error:0.06208564996719365 Prediction:0.550830078125\n",
      "after 5 adjust by  0.12458496093750004\n",
      "6 Error:0.034923178106546424 Prediction:0.61312255859375\n",
      "after 6 adjust by  0.09343872070312503\n",
      "7 Error:0.019644287684932357 Prediction:0.6598419189453125\n",
      "after 7 adjust by  0.07007904052734376\n",
      "8 Error:0.011049911822774457 Prediction:0.6948814392089844\n",
      "after 8 adjust by  0.052559280395507835\n",
      "9 Error:0.006215575400310641 Prediction:0.7211610794067382\n",
      "after 9 adjust by  0.039419460296630904\n",
      "10 Error:0.0034962611626747353 Prediction:0.7408708095550537\n",
      "after 10 adjust by  0.029564595222473178\n",
      "11 Error:0.001966646904004536 Prediction:0.7556531071662903\n",
      "after 11 adjust by  0.02217344641685487\n",
      "12 Error:0.0011062388835025535 Prediction:0.7667398303747177\n",
      "after 12 adjust by  0.016630084812641166\n",
      "13 Error:0.0006222593719701891 Prediction:0.7750548727810382\n",
      "after 13 adjust by  0.012472563609480902\n",
      "14 Error:0.0003500208967332314 Prediction:0.7812911545857787\n",
      "after 14 adjust by  0.009354422707110677\n",
      "15 Error:0.00019688675441244187 Prediction:0.7859683659393341\n",
      "after 15 adjust by  0.007015817030332994\n",
      "16 Error:0.00011074879935699914 Prediction:0.7894762744545005\n",
      "after 16 adjust by  0.005261862772749759\n",
      "17 Error:6.22961996383129e-05 Prediction:0.7921072058408754\n",
      "after 17 adjust by  0.003946397079562347\n",
      "18 Error:3.5041612296551e-05 Prediction:0.7940804043806565\n",
      "after 18 adjust by  0.0029597978096717603\n",
      "19 Error:1.971090691680969e-05 Prediction:0.7955603032854924\n",
      "after 19 adjust by  0.0022198483572538064\n"
     ]
    }
   ],
   "source": [
    "weight = 0.5\n",
    "goal_pred = 0.8\n",
    "input = -0.5\n",
    "\n",
    "for iteration in range(20):\n",
    "    pred = input * weight\n",
    "    error = (pred - goal_pred) ** 2\n",
    "    direction_and_amount = (pred - goal_pred) * input\n",
    "    weight = weight - direction_and_amount\n",
    "\n",
    "    print(f\"{iteration} Error:\" + str(error) + \" Prediction:\" + str(pred))\n",
    "    print(f\"after {iteration} adjust by \", direction_and_amount)\n"
   ]
  },
  {
   "cell_type": "code",
   "execution_count": 64,
   "metadata": {},
   "outputs": [
    {
     "name": "stdout",
     "output_type": "stream",
     "text": [
      "-----\n",
      "Weight:0.1\n",
      "Error:0.5625 Prediction:0.05\n",
      "Delta:-0.75 Weight Delta:-0.375\n",
      "-----\n",
      "Weight:0.475\n",
      "Error:0.31640625 Prediction:0.2375\n",
      "Delta:-0.5625 Weight Delta:-0.28125\n",
      "-----\n",
      "Weight:0.75625\n",
      "Error:0.17797851562500006 Prediction:0.378125\n",
      "Delta:-0.42187500000000006 Weight Delta:-0.21093750000000003\n"
     ]
    }
   ],
   "source": [
    "weight, goal_pred, input = (0.1, 0.8, 0.5)\n",
    "\n",
    "for iteration in range(3):\n",
    "    print(\"-----\\nWeight:\" + str(weight))\n",
    "    pred = input * weight\n",
    "    error = (pred - goal_pred) ** 2\n",
    "    delta = pred - goal_pred\n",
    "    weight_delta = delta * input\n",
    "    weight = weight - weight_delta\n",
    "    print(\"Error:\" + str(error) + \" Prediction:\" + str(pred))\n",
    "    print(\"Delta:\" + str(delta) + \" Weight Delta:\" + str(weight_delta))"
   ]
  },
  {
   "cell_type": "code",
   "execution_count": 119,
   "metadata": {},
   "outputs": [
    {
     "name": "stdout",
     "output_type": "stream",
     "text": [
      "0= pred 3 , delta 2.2, error_sq 4.840000000000001, new_weight 0.33999999999999986\n"
     ]
    }
   ],
   "source": [
    "input = 3\n",
    "weight = 1\n",
    "pred_goal = .8\n",
    "alpha = .1\n",
    "\n",
    "for i in range(1):\n",
    "    pred = input * weight\n",
    "    delta = pred - pred_goal #pure_error\n",
    "    error_sq = (pred - pred_goal)**2\n",
    "    weight_delta = delta * input\n",
    "    weight = weight - (weight_delta * alpha)\n",
    "    print(f\"{i}= pred {pred} , delta {delta}, error_sq {error_sq}, new_weight {weight}\" )"
   ]
  },
  {
   "cell_type": "code",
   "execution_count": 134,
   "metadata": {},
   "outputs": [
    {
     "name": "stdout",
     "output_type": "stream",
     "text": [
      "Iteration:1\n",
      "Pred:0.8600000000000001\n",
      "Error:0.01959999999999997\n",
      "Delta:-0.1399999999999999\n",
      "Weights:[0.1, 0.2, -0.1]\n",
      "Weight_Deltas:\n",
      "[0, -0.09099999999999994, -0.16799999999999987]\n",
      "\n",
      "Iteration:2\n",
      "Pred:0.9382250000000001\n",
      "Error:0.003816150624999989\n",
      "Delta:-0.06177499999999991\n",
      "Weights:[0.1, 0.2273, -0.04960000000000005]\n",
      "Weight_Deltas:\n",
      "[0, -0.040153749999999946, -0.07412999999999989]\n",
      "\n",
      "Iteration:3\n",
      "Pred:0.97274178125\n",
      "Error:0.000743010489422852\n",
      "Delta:-0.027258218750000007\n",
      "Weights:[0.1, 0.239346125, -0.02736100000000008]\n",
      "Weight_Deltas:\n",
      "[0, -0.017717842187500006, -0.032709862500000006]\n",
      "\n"
     ]
    }
   ],
   "source": [
    "out = 0\n",
    "    \n",
    "def neural_network(input, weights):\n",
    "    out = 0\n",
    "    for i in range(len(input)):\n",
    "        out += (input[i] * weights[i])\n",
    "    return out\n",
    "\n",
    "def ele_mul(scalar, vector):\n",
    "    out = [0,0,0]\n",
    "    for i in range(len(out)):\n",
    "        out[i] = vector[i] * scalar\n",
    "    return out\n",
    "\n",
    "toes = [8.5, 9.5, 9.9, 9.0]\n",
    "wlrec = [0.65, 0.8, 0.8, 0.9]\n",
    "nfans = [1.2, 1.3, 0.5, 1.0]\n",
    "\n",
    "win_or_lose_binary = [1, 1, 0, 1]\n",
    "true = win_or_lose_binary[0]\n",
    "\n",
    "alpha = 0.3\n",
    "weights = [0.1, 0.2, -.1]\n",
    "input = [toes[0],wlrec[0],nfans[0]]\n",
    "\n",
    "for iter in range(3):\n",
    "  pred = neural_network(input,weights)\n",
    "\n",
    "  error = (pred - true) ** 2\n",
    "  delta = pred - true\n",
    "  weight_deltas=ele_mul(delta,input)\n",
    "  weight_deltas[0] = 0 #freezing the first weight, thus ignoring weight_delta\n",
    "\n",
    "  print(\"Iteration:\" + str(iter+1))\n",
    "  print(\"Pred:\" + str(pred))\n",
    "  print(\"Error:\" + str(error))\n",
    "  print(\"Delta:\" + str(delta))\n",
    "  print(\"Weights:\" + str(weights))\n",
    "  print(\"Weight_Deltas:\")\n",
    "  print(str(weight_deltas))\n",
    "  print()\n",
    "\n",
    "  for i in range(len(weights)):\n",
    "    weights[i]-=alpha*weight_deltas[i]"
   ]
  },
  {
   "cell_type": "code",
   "execution_count": 149,
   "metadata": {},
   "outputs": [
    {
     "name": "stdout",
     "output_type": "stream",
     "text": [
      "(3, 3)\n",
      "[8.5  0.65 1.2 ] / [0.1 1.  0.1] / [38.675  -2.8925  5.46  ]\n",
      "0.555\n",
      "[ 0.455 -0.445  0.455]\n",
      "[ 3.8675  -0.28925  0.546  ]\n",
      "[38.675  -2.8925  5.46  ]\n"
     ]
    }
   ],
   "source": [
    "import numpy as np\n",
    "\n",
    "#input i.e. activations (3x4 matrix)\n",
    "toes = [8.5, 9.5, 9.9, 9.0] \n",
    "wlrec = [0.65, 0.8, 0.8, 0.9]\n",
    "nfans =[1.2, 1.3, 0.5, 1.0]\n",
    "\n",
    "#weights (3x3 matrix)\n",
    "            #toes, win, fans\n",
    "weights = np.array([[0.1, 0.1, -0.3],#hurt\n",
    "           [0.1, 0.2, 0.0], #win\n",
    "           [0.0, 1.3, 0.1]]) #sad\n",
    "\n",
    "#truths (3x3 matrix) - prediction goals\n",
    "hurt = [0.1, 0.0, 0.0, 0.1]\n",
    "win = [1, 1, 0, 1]\n",
    "sad = [0.1, 0.0, 0.1, 0.2]\n",
    "\n",
    "alpha = 10\n",
    "\n",
    "input_1 = np.array([toes[0], wlrec[0], nfans[0]])\n",
    "truth_hurt = np.array([hurt[0], win[0], sad[0]])\n",
    "weight_hurt = np.array([weights[0][0], weights[0][1], weights[0][2]])\n",
    "weight_win = np.array([weights[1][0], weights[1][1], weights[1][2]])\n",
    "\n",
    "print(f\"{input} / {truth} / {weight}\")\n",
    "#for i in range(1):\n",
    "pred_hurt = input.dot(weight_hurt) #pred = input * weight\n",
    "print(pred_hurt)\n",
    "delta_hurt = pred_hurt - truth_hurt\n",
    "print(delta_hurt)\n",
    "error_hurt = delta_hurt**2\n",
    "weight_delta_hurt = delta_hurt * input_1\n",
    "print(weight_delta_hurt)\n",
    "weight = weight_delta_hurt * alpha\n",
    "print(weight)\n",
    "\n",
    "error = [0,0,0]\n",
    "delta = [0,0,0]\n",
    "\n",
    "for every prediction (3 predictions)\n",
    "    pred = input * weight\n",
    "\n",
    "for every prediction\n",
    "    error = (pred - truth)**2\n",
    "    delta = pred - truth\n",
    "\n",
    "weight_delta = delta * input #<= each game\n",
    "\n",
    "#delta = pred - pred_goal #pure_error\n",
    "#error_sq = (pred - pred_goal)**2\n",
    "#weight_delta = delta * input\n",
    "#weight = weight - (weight_delta * alpha)\n",
    "#print(f\"{i}= pred {pred} , delta {delta}, error_sq {error_sq}, new_weight {weight}\" )\n"
   ]
  },
  {
   "cell_type": "code",
   "execution_count": 173,
   "metadata": {},
   "outputs": [
    {
     "name": "stdout",
     "output_type": "stream",
     "text": [
      "(2, 3)\n",
      "(3, 1)\n",
      "[[26]\n",
      " [24]]\n",
      "[[26]\n",
      " [24]]\n"
     ]
    }
   ],
   "source": [
    "a = np.array([[2,4,1], [3,3,1]])\n",
    "b = np.array([[3],[5],[0]])\n",
    "print(a.shape)\n",
    "print(b.shape)\n",
    "print(a.dot(b))\n",
    "print(np.dot(a,b))"
   ]
  },
  {
   "cell_type": "code",
   "execution_count": 182,
   "metadata": {},
   "outputs": [
    {
     "name": "stdout",
     "output_type": "stream",
     "text": [
      "-0.0\n",
      "[[-0.          0.51828245 -0.         -0.        ]]\n"
     ]
    }
   ],
   "source": [
    "x = np.array([[-0.37242104 , 0.51828245, -1.16138222, -0.02489585]])\n",
    "\n",
    "def test(a):\n",
    "    return (a > 0) * a\n",
    "\n",
    "print(x[0][0]*False)\n",
    "print(test(x))"
   ]
  },
  {
   "cell_type": "code",
   "execution_count": null,
   "metadata": {},
   "outputs": [],
   "source": []
  }
 ],
 "metadata": {
  "kernelspec": {
   "display_name": "Python 3",
   "language": "python",
   "name": "python3"
  },
  "language_info": {
   "codemirror_mode": {
    "name": "ipython",
    "version": 3
   },
   "file_extension": ".py",
   "mimetype": "text/x-python",
   "name": "python",
   "nbconvert_exporter": "python",
   "pygments_lexer": "ipython3",
   "version": "3.8.3"
  }
 },
 "nbformat": 4,
 "nbformat_minor": 4
}
