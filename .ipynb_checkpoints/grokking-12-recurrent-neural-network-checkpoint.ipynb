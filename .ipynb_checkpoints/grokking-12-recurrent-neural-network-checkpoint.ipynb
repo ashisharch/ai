{
 "cells": [
  {
   "cell_type": "code",
   "execution_count": 2,
   "metadata": {},
   "outputs": [],
   "source": [
    "import sys\n",
    "\n",
    "f = open('reviews-full.txt','r')\n",
    "#f = open('reviews_10.txt','r')\n",
    "raw_reviews = f.readlines() #returns 10 lines\n",
    "f.close()\n",
    "#print(len(raw_reviews))\n",
    "\n",
    "f = open('labels-full.txt', 'r')\n",
    "#f = open('labels_10.txt', 'r')\n",
    "raw_labels = f.readlines() #returns 10 labels\n",
    "f.close()\n",
    "#print(len(raw_labels))\n",
    "\n",
    "fn = lambda x:set(x.split(\" \")) #function that splits the review and creates a set of words in a single review\n",
    "\n",
    "#tokens is a list of sets of words in each review word \n",
    "tokens = list(map(fn,raw_reviews)) #takes the set of words for a given review and converts into list of words\n",
    "#print(tokens) #-- len=10 -- [{'believe','pomp',..} ,{'insane','it',...} ...]\n",
    "\n",
    "vocab = set() #vocab of all unique words in all reviews\n",
    "for sent in tokens: #for each review\n",
    "    #print(sent)\n",
    "    for word in sent: #for each word in review\n",
    "        if(len(word)>0): #if word is not empty space, add to vocab\n",
    "            vocab.add(word)\n",
    "vocab = list(vocab)\n",
    "#print(vocab) #-- len=989 -- ['michael', 'bet', 'slow',...]\n",
    "\n",
    "word2index = {} #dictionary of words and corresponding index\n",
    "for i,word in enumerate(vocab):\n",
    "    word2index[word]=i\n",
    "#print(word2index) #-- {'michael': 0, 'bet': 1, 'slow': 2, ...}\n",
    "#print(word2index[\"expect\"]) = 512\n",
    "\n",
    "input_dataset = list() # this is just a list of index of the words in review\n",
    "for sent in tokens:\n",
    "    sent_indices = list()\n",
    "    for word in sent:\n",
    "        try:\n",
    "            sent_indices.append(word2index[word])\n",
    "        except:\n",
    "            \"\"\n",
    "    input_dataset.append(list(set(sent_indices)))\n",
    "#print(len(input_dataset)) #-- len=10 -- [512, 514, 515,...]\n",
    "\n",
    "\n",
    "target_dataset = list() #list of labels, converted into 0 and 1s\n",
    "for label in raw_labels:\n",
    "    if label == 'positive\\n':\n",
    "        target_dataset.append(1)\n",
    "    else:\n",
    "        target_dataset.append(0)\n",
    "#print(target_dataset) - [1, 0, 1,...]"
   ]
  },
  {
   "cell_type": "code",
   "execution_count": 3,
   "metadata": {},
   "outputs": [
    {
     "name": "stdout",
     "output_type": "stream",
     "text": [
      "Iter:0 Progress:95.99% Training Accuracy:0.832125%75031263%%%\n",
      "Iter:1 Progress:95.99% Training Accuracy:0.8662916666666667%\n",
      "Iter:2 Progress:95.99% Training Accuracy:0.88425%7030143075%\n",
      "Iter:3 Progress:95.99% Training Accuracy:0.8973125%00229191%\n",
      "Iter:4 Progress:95.99% Training Accuracy:0.9075083333333334%\n",
      "Iter:5 Progress:95.99% Training Accuracy:0.9159166666666667%\n",
      "Iter:6 Progress:95.99% Training Accuracy:0.9230773809523809%\n",
      "Iter:7 Progress:95.99% Training Accuracy:0.9294166666666667%\n",
      "Iter:8 Progress:95.99% Training Accuracy:0.9350925925925926%\n",
      "Iter:9 Progress:95.99% Training Accuracy:0.9401875%77086545%\n",
      "Test Accuracy:1.0\n",
      "end of test\n"
     ]
    }
   ],
   "source": [
    "import numpy as np\n",
    "np.random.seed(1)\n",
    "\n",
    "#Sigmoid function returns a value between 0 and 1, only positive numbers, treating it as a probability\n",
    "def sigmoid(x): \n",
    "    #print(f\"pre-sigmoid= {x}\")\n",
    "    #a = 1/(1 + np.exp(-x))\n",
    "    #print(f\"sigmoid = {a}\")\n",
    "    return 1/(1 + np.exp(-x))\n",
    "\n",
    "alpha, iterations = (0.01, 1)\n",
    "hidden_size = 100\n",
    "\n",
    "weights_0_1 = 0.2*np.random.random((len(vocab),hidden_size)) - 0.1 #shape=(989,100)\n",
    "weights_1_2 = 0.2*np.random.random((hidden_size,1)) - 0.1 #shape=(100,1)\n",
    "#print(\"weights_0_1\", weights_0_1[512])\n",
    "\n",
    "correct,total = (0,0)\n",
    "for iter in range(iterations):\n",
    "    for i in range(len(input_dataset)-1000):  #for each review in form of index numbers [512, 514, 515,...]\n",
    "        x,y = (input_dataset[i],target_dataset[i]) #take each review in form of index of words\n",
    "        print(x)\n",
    "        \n",
    "        \n",
    "        #Since the onehot vector is a bunch of 0 and 1, its dotproduct with weights matrix will be equal to sum of weights (weights*1+weights*0)\n",
    "        #Thus, lets save time and sum up weights of all words in review, axis=0 means add first column to give us layer-1\n",
    "        #This layer_1 is called \"embedding layer\" and we do not need layer_0.\n",
    "        #weights_0_1[x].shape = (100,) - Its a vector of 100 weights\n",
    "        layer_1 = sigmoid(np.sum(weights_0_1[x],axis=0)) #weights[nparray] to get weights only of indexes in nparray\n",
    "        #print(f\"layer_1={i}\",layer_1)\n",
    "\n",
    "        layer_2 = sigmoid(np.dot(layer_1,weights_1_2))\n",
    "        layer_2_delta = layer_2 - y                        \n",
    "        layer_1_delta = layer_2_delta.dot(weights_1_2.T) #No reludervative since we used sigmoid  fn  \n",
    "        weights_0_1[x] -= layer_1_delta * alpha #adjust weight for each review\n",
    "        weights_1_2 -= np.outer(layer_1,layer_2_delta) * alpha #Outer multiplication produces a matrix\n",
    "        #print(weights_1_2.shape) #-(100,)\n",
    "\n",
    "        if(np.abs(layer_2_delta) < 0.5):\n",
    "            correct += 1\n",
    "        total += 1\n",
    "        if(i % 10 == 9):\n",
    "            progress = str(i/float(len(input_dataset)))\n",
    "            sys.stdout.write('\\rIter:'+str(iter)\\\n",
    "                             +' Progress:'+progress[2:4]\\\n",
    "                             +'.'+progress[4:6]\\\n",
    "                             +'% Training Accuracy:'\\\n",
    "                             + str(correct/float(total)) + '%')\n",
    "    print()\n",
    "    \n",
    "correct,total = (0,0)\n",
    "for i in range(len(input_dataset)-1000,len(input_dataset)):\n",
    "    x = input_dataset[i]\n",
    "    y = target_dataset[i]\n",
    "\n",
    "    layer_1 = sigmoid(np.sum(weights_0_1[x],axis=0))\n",
    "    layer_2 = sigmoid(np.dot(layer_1,weights_1_2))\n",
    "\n",
    "    if(np.abs(layer_2 - y) < 0.5):\n",
    "        correct += 1\n",
    "        total += 1\n",
    "        \n",
    "\n",
    "print(\"Test Accuracy:\" + str(correct / float(total)))\n",
    "print(\"end of test\")"
   ]
  },
  {
   "cell_type": "code",
   "execution_count": 97,
   "metadata": {},
   "outputs": [],
   "source": [
    "from collections import Counter\n",
    "import math \n",
    "\n",
    "def similar(target='believe'):\n",
    "    target_index = word2index[target]\n",
    "    scores = Counter()\n",
    "    for word,index in word2index.items():\n",
    "        raw_difference = weights_0_1[index] - (weights_0_1[target_index])\n",
    "        squared_difference = raw_difference * raw_difference\n",
    "        scores[word] = -math.sqrt(sum(squared_difference))\n",
    "\n",
    "    return scores.most_common(10)"
   ]
  },
  {
   "cell_type": "code",
   "execution_count": 111,
   "metadata": {},
   "outputs": [
    {
     "name": "stdout",
     "output_type": "stream",
     "text": [
      "[('fellow', -0.0), ('celebrities', -0.6802127785236843), ('covers', -0.6850515746886674), ('facing', -0.699074121432117), ('extravagant', -0.6994251782421944), ('fascinating', -0.7008795225057505), ('campers', -0.7031968054894266), ('photograph', -0.7060434355660766), ('faults', -0.7079402503159996), ('tend', -0.7083191561637148)]\n"
     ]
    }
   ],
   "source": [
    "print(similar('fellow'))"
   ]
  },
  {
   "cell_type": "markdown",
   "metadata": {},
   "source": [
    "## Averaged word vector from Chap 12"
   ]
  },
  {
   "cell_type": "code",
   "execution_count": 8,
   "metadata": {},
   "outputs": [
    {
     "name": "stdout",
     "output_type": "stream",
     "text": [
      "74074\n"
     ]
    }
   ],
   "source": [
    "import numpy as np\n",
    "from collections import Counter\n",
    "\n",
    "norms = np.sum(weights_0_1 * weights_0_1,axis=1)\n",
    "#print(norms.shape) #--shape=(74074,) -- [0.35052413 0.40099685 0.32382926 ...]\n",
    "norms.resize(norms.shape[0],1)\n",
    "normed_weights = weights_0_1 * norms\n",
    "\n",
    "def make_sent_vect(words):\n",
    "    indices = list(map(lambda x:word2index[x],filter(lambda x:x in word2index,words)))\n",
    "    return np.mean(normed_weights[indices],axis=0)\n",
    "\n",
    "reviews2vectors = list()\n",
    "for review in tokens: # tokenized reviews\n",
    "    reviews2vectors.append(make_sent_vect(review))\n",
    "reviews2vectors = np.array(reviews2vectors)\n",
    "\n",
    "def most_similar_reviews(review):\n",
    "    v = make_sent_vect(review)\n",
    "    scores = Counter()\n",
    "    for i,val in enumerate(reviews2vectors.dot(v)):\n",
    "        scores[i] = val\n",
    "    most_similar = list()\n",
    "    \n",
    "    for idx,score in scores.most_common(3):\n",
    "        most_similar.append(raw_reviews[idx][0:40])\n",
    "    return most_similar\n",
    "\n",
    "#most_similar_reviews(['boring','awful'])"
   ]
  },
  {
   "cell_type": "code",
   "execution_count": null,
   "metadata": {},
   "outputs": [],
   "source": []
  }
 ],
 "metadata": {
  "kernelspec": {
   "display_name": "Python 3",
   "language": "python",
   "name": "python3"
  },
  "language_info": {
   "codemirror_mode": {
    "name": "ipython",
    "version": 3
   },
   "file_extension": ".py",
   "mimetype": "text/x-python",
   "name": "python",
   "nbconvert_exporter": "python",
   "pygments_lexer": "ipython3",
   "version": "3.8.3"
  }
 },
 "nbformat": 4,
 "nbformat_minor": 4
}
