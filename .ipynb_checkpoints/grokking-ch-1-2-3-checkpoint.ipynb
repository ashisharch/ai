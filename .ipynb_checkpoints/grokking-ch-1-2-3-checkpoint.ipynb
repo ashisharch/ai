{
 "cells": [
  {
   "cell_type": "code",
   "execution_count": 19,
   "metadata": {},
   "outputs": [
    {
     "name": "stdout",
     "output_type": "stream",
     "text": [
      "hello\n"
     ]
    }
   ],
   "source": [
    "print(\"hello\")"
   ]
  },
  {
   "cell_type": "code",
   "execution_count": 20,
   "metadata": {},
   "outputs": [
    {
     "name": "stdout",
     "output_type": "stream",
     "text": [
      "0.8500000000000001\n"
     ]
    }
   ],
   "source": [
    "weight = 0.1\n",
    "def neural_network(input, weight):\n",
    "    prediction = input * weight\n",
    "    return prediction\n",
    "\n",
    "number_of_toes = [8.5, 9.5, 10, 9]\n",
    "input  = number_of_toes[0]\n",
    "\n",
    "pred = neural_network(input, weight)\n",
    "print(pred)"
   ]
  },
  {
   "cell_type": "code",
   "execution_count": 21,
   "metadata": {},
   "outputs": [
    {
     "name": "stdout",
     "output_type": "stream",
     "text": [
      "Dot product is  1400\n"
     ]
    }
   ],
   "source": [
    "def elementwise_multiplication(vec_a, vec_b):\n",
    "    ret_val = []\n",
    "    for i in range(len(vec_a)):\n",
    "        ret_val.append(vec_a[i] * vec_b[i])\n",
    "    return ret_val\n",
    "    \n",
    "def elementwise_addition(vec_a, vec_b):\n",
    "    ret_val = []\n",
    "    for i in range(len(vec_a)):\n",
    "        ret_val.append(vec_a[i] + vec_b[i])\n",
    "    return ret_val\n",
    "\n",
    "def vector_sum(vec_a):\n",
    "    ret_val = 0\n",
    "    for i in range(len(vec_a)):\n",
    "        ret_val += vec_a[i]\n",
    "    return ret_val\n",
    "    \n",
    "def vector_average(vec_a):\n",
    "    pass\n",
    "\n",
    "def dot_product (vec_a, vec_b):\n",
    "    product = elementwise_multiplication(input_1, weights_1)\n",
    "    print(\"Dot product is \", vector_sum(product))\n",
    "\n",
    "input_1 = [1,2,3]\n",
    "weights_1 = [100, 200, 300]\n",
    "\n",
    "#print(elementwise_multiplication(input_1, weights_1))\n",
    "#print(elementwise_addition(input_1, weights_1))\n",
    "dot_product(input_1, weights_1)"
   ]
  },
  {
   "cell_type": "code",
   "execution_count": 22,
   "metadata": {},
   "outputs": [
    {
     "name": "stdout",
     "output_type": "stream",
     "text": [
      "0.9800000000000001\n"
     ]
    }
   ],
   "source": [
    "def w_sum(a,b): #Multiply column wise and then add the output\n",
    "    assert(len(a) == len(b))\n",
    "    output = 0\n",
    "    for i in range(len(a)):\n",
    "        output += (a[i] * b[i])\n",
    "    return output\n",
    "\n",
    "weights = [0.1, 0.2, 0]\n",
    "\n",
    "def neural_network(input, weights):\n",
    "    pred = w_sum(input,weights)\n",
    "    return pred\n",
    "\n",
    "toes = [8.5, 9.5, 9.9, 9.0]\n",
    "wlrec = [0.65, 0.8, 0.8, 0.9]\n",
    "nfans = [1.2, 1.3, 0.5, 1.0]\n",
    "\n",
    "input = [toes[0],wlrec[0],nfans[0]]    \n",
    "pred = neural_network(input,weights)\n",
    "print(pred)\n",
    "\n"
   ]
  },
  {
   "cell_type": "code",
   "execution_count": 23,
   "metadata": {},
   "outputs": [
    {
     "name": "stdout",
     "output_type": "stream",
     "text": [
      "0.9800000000000001\n"
     ]
    }
   ],
   "source": [
    "#do element wise multiplication using \"dot\" method in numpy\n",
    "import numpy as np\n",
    "\n",
    "weights = np.array([0.1, 0.2, 0])\n",
    "\n",
    "def neural_network(input, weights):\n",
    "    pred = input.dot(weights)\n",
    "    return pred\n",
    "\n",
    "toes = np.array([8.5, 9.5, 9.9, 9.0])\n",
    "wlrec = np.array([0.65, 0.8, 0.8, 0.9])\n",
    "nfans = np.array([1.2, 1.3, 0.5, 1.0])\n",
    "\n",
    "input = np.array([toes[0],wlrec[0],nfans[0]]) \n",
    "pred = neural_network(input,weights)\n",
    "print(pred)"
   ]
  },
  {
   "cell_type": "code",
   "execution_count": 27,
   "metadata": {},
   "outputs": [
    {
     "name": "stdout",
     "output_type": "stream",
     "text": [
      "game 0 => [0.2135 0.145  0.5065]\n",
      "game 1 => [0.204 0.158 0.53 ]\n",
      "game 2 => [-0.584  0.018 -0.462]\n",
      "game 3 => [-0.015  0.116  0.253]\n"
     ]
    }
   ],
   "source": [
    "# Example of stacked networks\n",
    "# toes % win # fans\n",
    "ih_wgt = np.array([\n",
    "            [0.1, 0.2, -0.1], # hid[0]\n",
    "            [-0.1,0.1, 0.9], # hid[1]\n",
    "            [0.1, 0.4, 0.1]]).T # hid[2]\n",
    "\n",
    "# hid[0] hid[1] hid[2]\n",
    "hp_wgt = np.array([\n",
    "            [0.3, 1.1, -0.3], # hurt?\n",
    "            [0.1, 0.2, 0.0], # win?\n",
    "            [0.0, 1.3, 0.1] ]).T # sad?\n",
    "\n",
    "weights = [ih_wgt, hp_wgt]\n",
    "\n",
    "def neural_network(input, weights):\n",
    "    hid = input.dot(weights[0])\n",
    "    pred = hid.dot(weights[1])\n",
    "    return pred\n",
    "\n",
    "#=========\n",
    "toes = np.array([8.5, 9.5, 9.9, 9.0])\n",
    "wlrec = np.array([0.65,0.8, 0.8, 0.9])\n",
    "nfans = np.array([1.2, 1.3, 0.5, 1.0])\n",
    "\n",
    "for i in range(len(toes)):    \n",
    "    input = np.array([toes[i],wlrec[i],nfans[i]])\n",
    "    pred = neural_network(input,weights)\n",
    "    print(f\"game {i} =>\" , pred)\n"
   ]
  },
  {
   "cell_type": "code",
   "execution_count": null,
   "metadata": {},
   "outputs": [],
   "source": []
  }
 ],
 "metadata": {
  "kernelspec": {
   "display_name": "Python 3",
   "language": "python",
   "name": "python3"
  },
  "language_info": {
   "codemirror_mode": {
    "name": "ipython",
    "version": 3
   },
   "file_extension": ".py",
   "mimetype": "text/x-python",
   "name": "python",
   "nbconvert_exporter": "python",
   "pygments_lexer": "ipython3",
   "version": "3.8.3"
  }
 },
 "nbformat": 4,
 "nbformat_minor": 4
}
